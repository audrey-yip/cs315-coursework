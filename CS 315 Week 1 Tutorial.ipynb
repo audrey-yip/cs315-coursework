{
 "cells": [
  {
   "cell_type": "markdown",
   "id": "09a9fd98",
   "metadata": {},
   "source": [
    "# Assignment 1: Python Practice\n",
    "Author: Audrey Yip  \n",
    "**January 29, 2024**\n",
    "\n",
    "### Instructions\n",
    "* Use the csv library to write some data into a CSV file\n",
    "* Then, use csv and jinja2 to convert that information into an HTML file. Upload that file into the server\n",
    "* Pair up with a peer to exchange URLs of the files you created\n",
    "* Write code to get the friend’s file onto your computer and use beautifulsoup to extract the content of what your friend has written, and then save that content into a JSON file (as a dictionary of values).\n",
    "\n",
    "### Table of Contents\n",
    "\n",
    "1. [Write into csv file](#sec1)\n",
    "2. [Convert into html](#sec2)\n",
    "3. [Get friend's file](#sec3)\n"
   ]
  },
  {
   "cell_type": "markdown",
   "id": "099bf6ca",
   "metadata": {},
   "source": [
    "<a id=\"sec1\"></a>\n",
    "### 1. Write into csv file"
   ]
  },
  {
   "cell_type": "code",
   "execution_count": 1,
   "id": "c005cbd7",
   "metadata": {},
   "outputs": [],
   "source": [
    "import csv \n",
    "with open('tupelos_info.csv', 'w') as outfile:\n",
    "    writer = csv.writer(outfile)\n",
    "    writer.writerow(['Name', 'Class Year', 'Room #'])\n",
    "    writer.writerow(['Audrey Yip', 2025, 'TCW 631'])\n",
    "    writer.writerow(['Atalia Jae Navarro', 2025, 'Claf 324'])\n",
    "    writer.writerow(['Paige Gee', 2024, 'Caz 226'])\n",
    "    writer.writerow(['Hannah Yau', 2026, 'Pom 407'])\n",
    "    writer.writerow(['Laya Bommireddy', 2025, 'Pom 310'])\n",
    "    writer.writerow(['Adela Kelemen', 2027, 'Shafer 109'])"
   ]
  },
  {
   "cell_type": "markdown",
   "id": "764833a6",
   "metadata": {},
   "source": [
    "<a id=\"sec2\"></a>\n",
    "### 2. Convert csv into html"
   ]
  },
  {
   "cell_type": "code",
   "execution_count": 2,
   "id": "ee4480f1",
   "metadata": {},
   "outputs": [],
   "source": [
    "# Read file as dictionary\n",
    "\n",
    "with open('tupelos_info.csv', 'r') as infile:\n",
    "    csvReader = csv.DictReader(infile)\n",
    "    members = [row for row in csvReader]"
   ]
  },
  {
   "cell_type": "code",
   "execution_count": 3,
   "id": "8f635f82",
   "metadata": {},
   "outputs": [
    {
     "data": {
      "text/plain": [
       "[{'Name': 'Audrey Yip', 'Class Year': '2025', 'Room #': 'TCW 631'},\n",
       " {'Name': 'Atalia Jae Navarro', 'Class Year': '2025', 'Room #': 'Claf 324'},\n",
       " {'Name': 'Paige Gee', 'Class Year': '2024', 'Room #': 'Caz 226'},\n",
       " {'Name': 'Hannah Yau', 'Class Year': '2026', 'Room #': 'Pom 407'},\n",
       " {'Name': 'Laya Bommireddy', 'Class Year': '2025', 'Room #': 'Pom 310'},\n",
       " {'Name': 'Adela Kelemen', 'Class Year': '2027', 'Room #': 'Shafer 109'}]"
      ]
     },
     "execution_count": 3,
     "metadata": {},
     "output_type": "execute_result"
    }
   ],
   "source": [
    "members"
   ]
  },
  {
   "cell_type": "code",
   "execution_count": 22,
   "id": "b2871e3e",
   "metadata": {},
   "outputs": [],
   "source": [
    "# Create html template\n",
    "from jinja2 import Template\n",
    "htmlTemplate = \"\"\"\n",
    "<DOCTYPE html>\n",
    "<html>\n",
    "    <head><title>Tupelos Members Information 23-24</title></head>\n",
    "    <body>\n",
    "        <h1>Some Tupelos Members 23-24</h1>\n",
    "        <ul>\n",
    "        {% for st in membersList %}\n",
    "            <li class=\"student\">{{ st['Name'] }}, Class of {{ st['Class Year'] }} lives in {{ st['Room #']}} this year!</li> \n",
    "        {% endfor %}\n",
    "        </ul>\n",
    "    </body>\n",
    "</html>\n",
    "\"\"\"\n",
    "\n",
    "tempObj = Template(htmlTemplate)"
   ]
  },
  {
   "cell_type": "code",
   "execution_count": 23,
   "id": "6da8bbf6",
   "metadata": {},
   "outputs": [
    {
     "name": "stdout",
     "output_type": "stream",
     "text": [
      "\n",
      "<DOCTYPE html>\n",
      "<html>\n",
      "    <head><title>Tupelos Members Information 23-24</title></head>\n",
      "    <body>\n",
      "        <h1>Some Tupelos Members 23-24</h1>\n",
      "        <ul>\n",
      "        \n",
      "            <li class=\"student\">Audrey Yip, Class of 2025 lives in TCW 631 this year!</li> \n",
      "        \n",
      "            <li class=\"student\">Atalia Jae Navarro, Class of 2025 lives in Claf 324 this year!</li> \n",
      "        \n",
      "            <li class=\"student\">Paige Gee, Class of 2024 lives in Caz 226 this year!</li> \n",
      "        \n",
      "            <li class=\"student\">Hannah Yau, Class of 2026 lives in Pom 407 this year!</li> \n",
      "        \n",
      "            <li class=\"student\">Laya Bommireddy, Class of 2025 lives in Pom 310 this year!</li> \n",
      "        \n",
      "            <li class=\"student\">Adela Kelemen, Class of 2027 lives in Shafer 109 this year!</li> \n",
      "        \n",
      "        </ul>\n",
      "    </body>\n",
      "</html>\n"
     ]
    }
   ],
   "source": [
    "result = tempObj.render(membersList=members)\n",
    "print(result)"
   ]
  },
  {
   "cell_type": "code",
   "execution_count": 24,
   "id": "4f190a21",
   "metadata": {},
   "outputs": [],
   "source": [
    "# write to file\n",
    "with open('tupelos_info.html', 'w') as outFile:\n",
    "    outFile.write(result)"
   ]
  },
  {
   "cell_type": "markdown",
   "id": "ee20761b",
   "metadata": {},
   "source": [
    "<a id=\"sec3\"></a>\n",
    "### 3. Get friend's file"
   ]
  },
  {
   "cell_type": "code",
   "execution_count": 17,
   "id": "eadba239",
   "metadata": {},
   "outputs": [],
   "source": [
    "import requests\n",
    "import bs4\n",
    "from bs4 import BeautifulSoup as BS"
   ]
  },
  {
   "cell_type": "code",
   "execution_count": 18,
   "id": "25ee55d9",
   "metadata": {},
   "outputs": [],
   "source": [
    "# function from tutorial\n",
    "def getHTMLPage(url):\n",
    "    \"\"\"Given a url, get the HTML page content\"\"\"\n",
    "    \n",
    "    response = requests.get(url)\n",
    "    if response.status_code == 200:\n",
    "        return response.text\n",
    "    else:\n",
    "        print(\"Failure resaon:\", response.reason)\n",
    "        return"
   ]
  },
  {
   "cell_type": "code",
   "execution_count": 21,
   "id": "9d71cd1f",
   "metadata": {},
   "outputs": [
    {
     "name": "stdout",
     "output_type": "stream",
     "text": [
      "Failure resaon: Not Found\n",
      "None\n"
     ]
    }
   ],
   "source": [
    "# get my own file for fun. why doesn't this work???\n",
    "url = 'https://cs.wellesley.edu/~ay107/cs315/tupelos_info.html'\n",
    "htmlPage = getHTMLPage(url)\n",
    "print(htmlPage)"
   ]
  },
  {
   "cell_type": "code",
   "execution_count": 26,
   "id": "6e8d3bdf",
   "metadata": {},
   "outputs": [
    {
     "name": "stdout",
     "output_type": "stream",
     "text": [
      "\n",
      "<DOCTYPE html>\n",
      "<html>\n",
      "    <head><title>Hogwarts Students</title></head>\n",
      "    <body>\n",
      "        <h1>Students at Hogwarts</h1>\n",
      "        <ul>\n",
      "        \n",
      "            <li class=\"student\"> \n",
      "                <span class = \"name\"> Hermione Granger </span>, \n",
      "                <span class = \"name\"> Class of 2023</span>, \n",
      "                <span class = \"name\"> resides in Gryffindor</span>.\n",
      "            </li> \n",
      "        \n",
      "            <li class=\"student\"> \n",
      "                <span class = \"name\"> Luna Lovegood </span>, \n",
      "                <span class = \"name\"> Class of 2024</span>, \n",
      "                <span class = \"name\"> resides in Ravenclaw</span>.\n",
      "            </li> \n",
      "        \n",
      "            <li class=\"student\"> \n",
      "                <span class = \"name\"> Cedric Diggory </span>, \n",
      "                <span class = \"name\"> Class of 2021</span>, \n",
      "                <span class = \"name\"> resides in Hufflepuff</span>.\n",
      "            </li> \n",
      "        \n",
      "            <li class=\"student\"> \n",
      "                <span class = \"name\"> Drago Malfoy </span>, \n",
      "                <span class = \"name\"> Class of 2023</span>, \n",
      "                <span class = \"name\"> resides in Slytherin</span>.\n",
      "            </li> \n",
      "        \n",
      "            <li class=\"student\"> \n",
      "                <span class = \"name\"> Ashley Kang </span>, \n",
      "                <span class = \"name\"> Class of 2025</span>, \n",
      "                <span class = \"name\"> resides in Hufflepuff</span>.\n",
      "            </li> \n",
      "        \n",
      "        </ul>\n",
      "    </body>\n",
      "</html>\n"
     ]
    }
   ],
   "source": [
    "url = 'https://cs.wellesley.edu/~yk102/hogwarts.html'\n",
    "htmlPage = getHTMLPage(url)\n",
    "print(htmlPage)"
   ]
  },
  {
   "cell_type": "code",
   "execution_count": 27,
   "id": "33548965",
   "metadata": {},
   "outputs": [],
   "source": [
    "domTree = BS(htmlPage, 'html.parser')"
   ]
  },
  {
   "cell_type": "code",
   "execution_count": 28,
   "id": "8f32dc89",
   "metadata": {},
   "outputs": [],
   "source": [
    "name_elements = domTree.find_all(class_=\"name\")"
   ]
  },
  {
   "cell_type": "code",
   "execution_count": 29,
   "id": "536472f1",
   "metadata": {},
   "outputs": [
    {
     "name": "stdout",
     "output_type": "stream",
     "text": [
      "[<span class=\"name\"> Hermione Granger </span>, <span class=\"name\"> Class of 2023</span>, <span class=\"name\"> resides in Gryffindor</span>, <span class=\"name\"> Luna Lovegood </span>, <span class=\"name\"> Class of 2024</span>, <span class=\"name\"> resides in Ravenclaw</span>, <span class=\"name\"> Cedric Diggory </span>, <span class=\"name\"> Class of 2021</span>, <span class=\"name\"> resides in Hufflepuff</span>, <span class=\"name\"> Drago Malfoy </span>, <span class=\"name\"> Class of 2023</span>, <span class=\"name\"> resides in Slytherin</span>, <span class=\"name\"> Ashley Kang </span>, <span class=\"name\"> Class of 2025</span>, <span class=\"name\"> resides in Hufflepuff</span>]\n"
     ]
    }
   ],
   "source": [
    "print(name_elements)"
   ]
  },
  {
   "cell_type": "code",
   "execution_count": 30,
   "id": "41beedd9",
   "metadata": {},
   "outputs": [
    {
     "name": "stdout",
     "output_type": "stream",
     "text": [
      " Hermione Granger \n",
      " Class of 2023\n",
      " resides in Gryffindor\n",
      " Luna Lovegood \n",
      " Class of 2024\n",
      " resides in Ravenclaw\n",
      " Cedric Diggory \n",
      " Class of 2021\n",
      " resides in Hufflepuff\n",
      " Drago Malfoy \n",
      " Class of 2023\n",
      " resides in Slytherin\n",
      " Ashley Kang \n",
      " Class of 2025\n",
      " resides in Hufflepuff\n"
     ]
    }
   ],
   "source": [
    "for element in name_elements:\n",
    "    print(element.get_text())"
   ]
  },
  {
   "cell_type": "code",
   "execution_count": 35,
   "id": "4f8c8d37",
   "metadata": {},
   "outputs": [],
   "source": [
    "from collections import OrderedDict\n",
    "students_list = []\n",
    "\n",
    "for i in range(0, len(name_elements), 3):\n",
    "    name = name_elements[i].get_text(strip=True)\n",
    "    class_info = name_elements[i + 1].get_text()\n",
    "    classyear = class_info.split()[2]\n",
    "    house_info = name_elements[i + 2].get_text()\n",
    "    house = house_info.split()[2]\n",
    "    \n",
    "    student = OrderedDict({'Name': name, \n",
    "                     'Class year': classyear, \n",
    "                     'House': house})\n",
    "    \n",
    "    students_list.append(student)"
   ]
  },
  {
   "cell_type": "code",
   "execution_count": 36,
   "id": "324ce559",
   "metadata": {},
   "outputs": [
    {
     "name": "stdout",
     "output_type": "stream",
     "text": [
      "[OrderedDict([('Name', 'Hermione Granger'), ('Class year', '2023'), ('House', 'Gryffindor')]), OrderedDict([('Name', 'Luna Lovegood'), ('Class year', '2024'), ('House', 'Ravenclaw')]), OrderedDict([('Name', 'Cedric Diggory'), ('Class year', '2021'), ('House', 'Hufflepuff')]), OrderedDict([('Name', 'Drago Malfoy'), ('Class year', '2023'), ('House', 'Slytherin')]), OrderedDict([('Name', 'Ashley Kang'), ('Class year', '2025'), ('House', 'Hufflepuff')])]\n"
     ]
    }
   ],
   "source": [
    "print(students_list)"
   ]
  },
  {
   "cell_type": "code",
   "execution_count": 37,
   "id": "8099dfec",
   "metadata": {},
   "outputs": [],
   "source": [
    "import json\n",
    "with open('hogwarts_youna.json', 'w') as outFile:\n",
    "    json.dump(students_list, outFile)"
   ]
  },
  {
   "cell_type": "code",
   "execution_count": null,
   "id": "cb186780",
   "metadata": {},
   "outputs": [],
   "source": []
  }
 ],
 "metadata": {
  "kernelspec": {
   "display_name": "Python 3 (ipykernel)",
   "language": "python",
   "name": "python3"
  },
  "language_info": {
   "codemirror_mode": {
    "name": "ipython",
    "version": 3
   },
   "file_extension": ".py",
   "mimetype": "text/x-python",
   "name": "python",
   "nbconvert_exporter": "python",
   "pygments_lexer": "ipython3",
   "version": "3.11.3"
  }
 },
 "nbformat": 4,
 "nbformat_minor": 5
}

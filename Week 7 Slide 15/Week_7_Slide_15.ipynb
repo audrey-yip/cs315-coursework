{
 "cells": [
  {
   "cell_type": "markdown",
   "metadata": {},
   "source": [
    "# Code for Week 7 Slide 15\n",
    "**Author: Audrey Yip**\n",
    "\n",
    "**For ARQ1**\n",
    "\n",
    "Extract the list of accounts a user is following from their “user_data.json”.\n",
    "Compare this list to our list of News accounts. Is there overlap?\n",
    "Our list might be incomplete. Could some of the accounts still be news-related?\n",
    "We could scrape the TikTok pages of these accounts\n",
    "\n",
    "**For ARQ2**\n",
    "We will get the metadata for each video using pyktok, and check if the video belongs to accounts that the user follows.\n",
    "What % of the videos come from accounts a user follows?\n",
    "\n",
    "Note: could not complete ARQ2 because json does not have video browsing history"
   ]
  },
  {
   "cell_type": "code",
   "execution_count": null,
   "metadata": {},
   "outputs": [
    {
     "ename": "",
     "evalue": "",
     "output_type": "error",
     "traceback": [
      "\u001b[1;31mRunning cells with '.project2' requires the ipykernel package.\n",
      "\u001b[1;31mRun the following command to install 'ipykernel' into the Python environment. \n",
      "\u001b[1;31mCommand: '/Users/audreyyip/Documents/GitHub/CS315-Project-2/.project2/bin/python -m pip install ipykernel -U --force-reinstall'"
     ]
    }
   ],
   "source": [
    "import pandas as pd\n",
    "import json"
   ]
  },
  {
   "cell_type": "code",
   "execution_count": null,
   "metadata": {},
   "outputs": [],
   "source": [
    "with open('user_data.json', 'r') as myFile:    \n",
    "  data = json.load(myFile)"
   ]
  }
 ],
 "metadata": {
  "kernelspec": {
   "display_name": ".project2",
   "language": "python",
   "name": "python3"
  },
  "language_info": {
   "name": "python",
   "version": "3.12.2"
  }
 },
 "nbformat": 4,
 "nbformat_minor": 2
}
